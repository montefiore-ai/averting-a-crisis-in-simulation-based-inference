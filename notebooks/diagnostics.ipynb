{
 "cells": [
  {
   "cell_type": "code",
   "execution_count": 1,
   "id": "solid-notebook",
   "metadata": {},
   "outputs": [],
   "source": [
    "import hypothesis as h\n",
    "import torch\n",
    "import numpy as np\n",
    "import matplotlib.pyplot as plt\n",
    "\n",
    "from hypothesis.train import RatioEstimatorTrainer as Trainer\n",
    "from hypothesis.nn import build_ratio_estimator\n",
    "from hypothesis.stat import highest_density_level\n",
    "\n",
    "from sklearn.metrics import roc_auc_score\n",
    "\n",
    "from tqdm import tqdm"
   ]
  },
  {
   "cell_type": "code",
   "execution_count": 2,
   "id": "protective-edwards",
   "metadata": {},
   "outputs": [],
   "source": [
    "h.plot.activate()"
   ]
  },
  {
   "cell_type": "markdown",
   "id": "demographic-carrier",
   "metadata": {},
   "source": [
    "### Utilities"
   ]
  },
  {
   "cell_type": "code",
   "execution_count": 3,
   "id": "institutional-prayer",
   "metadata": {},
   "outputs": [],
   "source": [
    "@torch.no_grad()\n",
    "def coverage(estimator, cl=0.95, resolution=100, n=10000):\n",
    "    covered = 0\n",
    "    prior = torch.distributions.uniform.Uniform(-15, 15)\n",
    "    linspace = torch.linspace(-15, 15, resolution)\n",
    "    inputs, outputs = simulate_joint(n)\n",
    "    for index in range(n):\n",
    "        nominal = inputs[index].view(-1, 1)\n",
    "        observable = outputs[index].view(-1, 1)\n",
    "        log_nominal_pdf = estimator.log_ratio(inputs=nominal, outputs=observable) + prior.log_prob(nominal)\n",
    "        nominal_pdf = log_nominal_pdf.exp().item()\n",
    "        observable = observable.repeat(resolution, 1)\n",
    "        log_ratios = estimator.log_ratio(inputs=linspace, outputs=observable)\n",
    "        log_pdf = log_ratios + prior.log_prob(nominal)\n",
    "        pdf = log_pdf.squeeze().exp()\n",
    "        level = highest_density_level(pdf, 1 - cl)\n",
    "        if nominal_pdf >= level:\n",
    "            covered += 1\n",
    "    emperical_coverage_probability = covered / n\n",
    "    has_coverage = emperical_coverage_probability >= cl\n",
    "    \n",
    "    return has_coverage, emperical_coverage_probability"
   ]
  },
  {
   "cell_type": "code",
   "execution_count": 4,
   "id": "collected-shelter",
   "metadata": {},
   "outputs": [],
   "source": [
    "def jsd(dataset_a, dataset_b, epochs=1, discriminator=None):\n",
    "    # Prepare the optimization procedure\n",
    "    batch_size = 128\n",
    "    ones = torch.ones(batch_size, 1)\n",
    "    zeros = torch.zeros(batch_size, 1)\n",
    "    model = h.nn.MLP(shape_xs=(2,), shape_ys=(1,))\n",
    "    optimizer = torch.optim.Adam(model.parameters(), lr=0.0001)\n",
    "    criterion = torch.nn.BCELoss()\n",
    "    final_loss = np.log(4)\n",
    "    if discriminator is None:\n",
    "        for _ in range(epochs):\n",
    "            loader_a = torch.utils.data.DataLoader(dataset_a, batch_size=batch_size, drop_last=True)\n",
    "            loader_b = torch.utils.data.DataLoader(dataset_b, batch_size=batch_size, drop_last=True)\n",
    "            for in_a, in_b in zip(loader_a, loader_b):\n",
    "                optimizer.zero_grad()\n",
    "                # Prepare inputs dataset A.\n",
    "                z_a = torch.cat([in_a[\"inputs\"], in_a[\"outputs\"]], dim=1)\n",
    "                # Prepare inputs dataset B.\n",
    "                z_b = torch.cat([in_b[\"inputs\"], in_b[\"outputs\"]], dim=1)\n",
    "                # Forward pass\n",
    "                y_a = model(z_a)\n",
    "                y_b = model(z_b)\n",
    "                loss_a = criterion(y_a, ones)\n",
    "                loss_b = criterion(y_b, zeros)\n",
    "                loss = loss_a + loss_b\n",
    "                loss.backward()\n",
    "                optimizer.step()\n",
    "                final_loss = 0.99 * final_loss + 0.01 * loss.item()\n",
    "        discriminator = model.eval()\n",
    "        divergence = np.log(4) - final_loss\n",
    "        return divergence, discriminator\n",
    "    else:\n",
    "        discriminator.eval()\n",
    "        loader_a = torch.utils.data.DataLoader(dataset_a, batch_size=batch_size, drop_last=True)\n",
    "        loader_b = torch.utils.data.DataLoader(dataset_b, batch_size=batch_size, drop_last=True)\n",
    "        for in_a, in_b in zip(loader_a, loader_b):\n",
    "            # Prepare inputs dataset A.\n",
    "            z_a = torch.cat([in_a[\"inputs\"], in_a[\"outputs\"]], dim=1)\n",
    "            # Prepare inputs dataset B.\n",
    "            z_b = torch.cat([in_b[\"inputs\"], in_b[\"outputs\"]], dim=1)\n",
    "            # Forward pass\n",
    "            y_a = discriminator(z_a)\n",
    "            y_b = discriminator(z_b)\n",
    "            loss_a = criterion(y_a, ones)\n",
    "            loss_b = criterion(y_b, zeros)\n",
    "            loss = loss_a + loss_b\n",
    "            final_loss = 0.8 * final_loss + 0.2 * loss.item() \n",
    "        divergence = np.log(4) - final_loss\n",
    "        return divergence"
   ]
  },
  {
   "cell_type": "code",
   "execution_count": 5,
   "id": "guided-composite",
   "metadata": {},
   "outputs": [],
   "source": [
    "class RatioEstimator(h.nn.ratio_estimation.BaseRatioEstimator):\n",
    "\n",
    "    def __init__(self):\n",
    "        random_variables = {\"inputs\": (1,), \"outputs\": (1,)}\n",
    "        Class = build_ratio_estimator(\"mlp\", random_variables)\n",
    "        activation = torch.nn.SELU\n",
    "        trunk = [128] * 3\n",
    "        r = Class(activation=activation, trunk=trunk)\n",
    "        super(RatioEstimator, self).__init__(r=r)\n",
    "        self._r = r\n",
    "\n",
    "    def log_ratio(self, **kwargs):\n",
    "        return self._r.log_ratio(**kwargs)"
   ]
  },
  {
   "cell_type": "code",
   "execution_count": 6,
   "id": "indirect-belize",
   "metadata": {},
   "outputs": [],
   "source": [
    "@torch.no_grad()\n",
    "def weights(estimator, inputs, outputs):\n",
    "    ratios = estimator.log_ratio(inputs=inputs, outputs=outputs).exp()\n",
    "    return (ratios / ratios.sum()).squeeze().numpy()"
   ]
  },
  {
   "cell_type": "code",
   "execution_count": 7,
   "id": "private-collar",
   "metadata": {},
   "outputs": [],
   "source": [
    "def simulate_joint(n=1000000):\n",
    "    return simulate(n)"
   ]
  },
  {
   "cell_type": "code",
   "execution_count": 8,
   "id": "biological-travel",
   "metadata": {},
   "outputs": [],
   "source": [
    "def simulate_marginals(n=1000000):\n",
    "    inputs, outputs = simulate(n)\n",
    "    indices = torch.randperm(n)\n",
    "    inputs = inputs[indices, :]\n",
    "    \n",
    "    return inputs, outputs"
   ]
  },
  {
   "cell_type": "code",
   "execution_count": 9,
   "id": "dutch-tobago",
   "metadata": {},
   "outputs": [],
   "source": [
    "def simulate(n):\n",
    "    prior = torch.distributions.uniform.Uniform(-15, 15)\n",
    "    inputs = prior.sample((n, 1,))\n",
    "    outputs = torch.from_numpy(np.random.random(size=n).reshape(-1, 1)) + inputs\n",
    "    inputs = inputs.float()\n",
    "    outputs = outputs.float()\n",
    "    \n",
    "    return inputs, outputs"
   ]
  },
  {
   "cell_type": "code",
   "execution_count": 10,
   "id": "efficient-missouri",
   "metadata": {},
   "outputs": [],
   "source": [
    "def train(epochs=1, n_train=1000000, conservative=False):\n",
    "    # Simulate data\n",
    "    inputs, outputs = simulate(n_train)\n",
    "    # Prepare the model\n",
    "    batch_size = 1024\n",
    "    d_inputs = torch.utils.data.TensorDataset(inputs)\n",
    "    d_outputs = torch.utils.data.TensorDataset(outputs)\n",
    "    dataset = h.util.data.NamedDataset(inputs=d_inputs, outputs=d_outputs)\n",
    "    model = RatioEstimator()\n",
    "    # Allocate the optimizer\n",
    "    optimizer = torch.optim.AdamW(model.parameters(), lr=0.0001)\n",
    "    if conservative:\n",
    "        criterion = h.nn.ratio_estimation.BalancedCriterion(model, batch_size, gamma=100.0)\n",
    "    else:\n",
    "        criterion = h.nn.ratio_estimation.BaseCriterion(model, batch_size)\n",
    "    # Prepare the trainer\n",
    "    trainer = Trainer(\n",
    "        batch_size=batch_size,\n",
    "        criterion=criterion,\n",
    "        dataset_train=dataset,\n",
    "        epochs=epochs,\n",
    "        optimizer=optimizer,\n",
    "        shuffle=True,\n",
    "        workers=2)\n",
    "    trainer.fit()\n",
    "    \n",
    "    return model.eval()"
   ]
  },
  {
   "cell_type": "markdown",
   "id": "understood-usage",
   "metadata": {},
   "source": [
    "### Reweighting product of the marginals"
   ]
  },
  {
   "cell_type": "code",
   "execution_count": 11,
   "id": "collaborative-database",
   "metadata": {},
   "outputs": [
    {
     "ename": "KeyboardInterrupt",
     "evalue": "",
     "output_type": "error",
     "traceback": [
      "\u001b[0;31m---------------------------------------------------------------------------\u001b[0m",
      "\u001b[0;31mKeyboardInterrupt\u001b[0m                         Traceback (most recent call last)",
      "\u001b[0;32m<ipython-input-11-048e46e58610>\u001b[0m in \u001b[0;36m<module>\u001b[0;34m\u001b[0m\n\u001b[0;32m----> 1\u001b[0;31m \u001b[0mmodel\u001b[0m \u001b[0;34m=\u001b[0m \u001b[0mtrain\u001b[0m\u001b[0;34m(\u001b[0m\u001b[0mepochs\u001b[0m\u001b[0;34m=\u001b[0m\u001b[0;36m2\u001b[0m\u001b[0;34m,\u001b[0m \u001b[0mn_train\u001b[0m\u001b[0;34m=\u001b[0m\u001b[0;36m1000000\u001b[0m\u001b[0;34m)\u001b[0m\u001b[0;34m\u001b[0m\u001b[0;34m\u001b[0m\u001b[0m\n\u001b[0m",
      "\u001b[0;32m<ipython-input-10-6052bd04abcc>\u001b[0m in \u001b[0;36mtrain\u001b[0;34m(epochs, n_train, conservative)\u001b[0m\n\u001b[1;32m     23\u001b[0m         \u001b[0mshuffle\u001b[0m\u001b[0;34m=\u001b[0m\u001b[0;32mTrue\u001b[0m\u001b[0;34m,\u001b[0m\u001b[0;34m\u001b[0m\u001b[0;34m\u001b[0m\u001b[0m\n\u001b[1;32m     24\u001b[0m         workers=2)\n\u001b[0;32m---> 25\u001b[0;31m     \u001b[0mtrainer\u001b[0m\u001b[0;34m.\u001b[0m\u001b[0mfit\u001b[0m\u001b[0;34m(\u001b[0m\u001b[0;34m)\u001b[0m\u001b[0;34m\u001b[0m\u001b[0;34m\u001b[0m\u001b[0m\n\u001b[0m\u001b[1;32m     26\u001b[0m \u001b[0;34m\u001b[0m\u001b[0m\n\u001b[1;32m     27\u001b[0m     \u001b[0;32mreturn\u001b[0m \u001b[0mmodel\u001b[0m\u001b[0;34m.\u001b[0m\u001b[0meval\u001b[0m\u001b[0;34m(\u001b[0m\u001b[0;34m)\u001b[0m\u001b[0;34m\u001b[0m\u001b[0;34m\u001b[0m\u001b[0m\n",
      "\u001b[0;32m~/Workspace/hypothesis/hypothesis/train/base.py\u001b[0m in \u001b[0;36mfit\u001b[0;34m(self)\u001b[0m\n\u001b[1;32m     71\u001b[0m             \u001b[0;32mif\u001b[0m \u001b[0mself\u001b[0m\u001b[0;34m.\u001b[0m\u001b[0m_dataset_train\u001b[0m \u001b[0;32mis\u001b[0m \u001b[0;32mnot\u001b[0m \u001b[0;32mNone\u001b[0m\u001b[0;34m:\u001b[0m\u001b[0;34m\u001b[0m\u001b[0;34m\u001b[0m\u001b[0m\n\u001b[1;32m     72\u001b[0m                 \u001b[0mself\u001b[0m\u001b[0;34m.\u001b[0m\u001b[0mcall_event\u001b[0m\u001b[0;34m(\u001b[0m\u001b[0mself\u001b[0m\u001b[0;34m.\u001b[0m\u001b[0mevents\u001b[0m\u001b[0;34m.\u001b[0m\u001b[0mtrain_start\u001b[0m\u001b[0;34m)\u001b[0m\u001b[0;34m\u001b[0m\u001b[0;34m\u001b[0m\u001b[0m\n\u001b[0;32m---> 73\u001b[0;31m                 \u001b[0mloss\u001b[0m \u001b[0;34m=\u001b[0m \u001b[0mself\u001b[0m\u001b[0;34m.\u001b[0m\u001b[0mtrain\u001b[0m\u001b[0;34m(\u001b[0m\u001b[0;34m)\u001b[0m\u001b[0;34m\u001b[0m\u001b[0;34m\u001b[0m\u001b[0m\n\u001b[0m\u001b[1;32m     74\u001b[0m                 \u001b[0;32mif\u001b[0m \u001b[0mlen\u001b[0m\u001b[0;34m(\u001b[0m\u001b[0mself\u001b[0m\u001b[0;34m.\u001b[0m\u001b[0m_losses_train\u001b[0m\u001b[0;34m)\u001b[0m \u001b[0;34m==\u001b[0m \u001b[0;36m0\u001b[0m \u001b[0;32mor\u001b[0m \u001b[0mloss\u001b[0m \u001b[0;34m<\u001b[0m \u001b[0mnp\u001b[0m\u001b[0;34m.\u001b[0m\u001b[0mmin\u001b[0m\u001b[0;34m(\u001b[0m\u001b[0mself\u001b[0m\u001b[0;34m.\u001b[0m\u001b[0m_losses_train\u001b[0m\u001b[0;34m)\u001b[0m\u001b[0;34m:\u001b[0m\u001b[0;34m\u001b[0m\u001b[0;34m\u001b[0m\u001b[0m\n\u001b[1;32m     75\u001b[0m                     \u001b[0mself\u001b[0m\u001b[0;34m.\u001b[0m\u001b[0mcall_event\u001b[0m\u001b[0;34m(\u001b[0m\u001b[0mself\u001b[0m\u001b[0;34m.\u001b[0m\u001b[0mevents\u001b[0m\u001b[0;34m.\u001b[0m\u001b[0mnew_best_train\u001b[0m\u001b[0;34m,\u001b[0m \u001b[0mloss\u001b[0m\u001b[0;34m=\u001b[0m\u001b[0mloss\u001b[0m\u001b[0;34m)\u001b[0m\u001b[0;34m\u001b[0m\u001b[0;34m\u001b[0m\u001b[0m\n",
      "\u001b[0;32m~/Workspace/hypothesis/hypothesis/train/ratio_estimation/base.py\u001b[0m in \u001b[0;36mtrain\u001b[0;34m(self)\u001b[0m\n\u001b[1;32m    171\u001b[0m                 \u001b[0msample_joint\u001b[0m\u001b[0;34m[\u001b[0m\u001b[0mk\u001b[0m\u001b[0;34m]\u001b[0m \u001b[0;34m=\u001b[0m \u001b[0mv\u001b[0m\u001b[0;34m.\u001b[0m\u001b[0mto\u001b[0m\u001b[0;34m(\u001b[0m\u001b[0mself\u001b[0m\u001b[0;34m.\u001b[0m\u001b[0m_accelerator\u001b[0m\u001b[0;34m,\u001b[0m \u001b[0mnon_blocking\u001b[0m\u001b[0;34m=\u001b[0m\u001b[0;32mTrue\u001b[0m\u001b[0;34m)\u001b[0m\u001b[0;34m\u001b[0m\u001b[0;34m\u001b[0m\u001b[0m\n\u001b[1;32m    172\u001b[0m             \u001b[0mloss\u001b[0m \u001b[0;34m=\u001b[0m \u001b[0mself\u001b[0m\u001b[0;34m.\u001b[0m\u001b[0m_criterion\u001b[0m\u001b[0;34m(\u001b[0m\u001b[0;34m**\u001b[0m\u001b[0msample_joint\u001b[0m\u001b[0;34m)\u001b[0m\u001b[0;34m\u001b[0m\u001b[0;34m\u001b[0m\u001b[0m\n\u001b[0;32m--> 173\u001b[0;31m             \u001b[0mloss\u001b[0m\u001b[0;34m.\u001b[0m\u001b[0mbackward\u001b[0m\u001b[0;34m(\u001b[0m\u001b[0;34m)\u001b[0m\u001b[0;34m\u001b[0m\u001b[0;34m\u001b[0m\u001b[0m\n\u001b[0m\u001b[1;32m    174\u001b[0m             \u001b[0mself\u001b[0m\u001b[0;34m.\u001b[0m\u001b[0m_optimizer\u001b[0m\u001b[0;34m.\u001b[0m\u001b[0mstep\u001b[0m\u001b[0;34m(\u001b[0m\u001b[0;34m)\u001b[0m\u001b[0;34m\u001b[0m\u001b[0;34m\u001b[0m\u001b[0m\n\u001b[1;32m    175\u001b[0m             \u001b[0mloss\u001b[0m \u001b[0;34m=\u001b[0m \u001b[0mloss\u001b[0m\u001b[0;34m.\u001b[0m\u001b[0mitem\u001b[0m\u001b[0;34m(\u001b[0m\u001b[0;34m)\u001b[0m\u001b[0;34m\u001b[0m\u001b[0;34m\u001b[0m\u001b[0m\n",
      "\u001b[0;32m~/Anaconda/envs/casbi/lib/python3.9/site-packages/torch/tensor.py\u001b[0m in \u001b[0;36mbackward\u001b[0;34m(self, gradient, retain_graph, create_graph, inputs)\u001b[0m\n\u001b[1;32m    243\u001b[0m                 \u001b[0mcreate_graph\u001b[0m\u001b[0;34m=\u001b[0m\u001b[0mcreate_graph\u001b[0m\u001b[0;34m,\u001b[0m\u001b[0;34m\u001b[0m\u001b[0;34m\u001b[0m\u001b[0m\n\u001b[1;32m    244\u001b[0m                 inputs=inputs)\n\u001b[0;32m--> 245\u001b[0;31m         \u001b[0mtorch\u001b[0m\u001b[0;34m.\u001b[0m\u001b[0mautograd\u001b[0m\u001b[0;34m.\u001b[0m\u001b[0mbackward\u001b[0m\u001b[0;34m(\u001b[0m\u001b[0mself\u001b[0m\u001b[0;34m,\u001b[0m \u001b[0mgradient\u001b[0m\u001b[0;34m,\u001b[0m \u001b[0mretain_graph\u001b[0m\u001b[0;34m,\u001b[0m \u001b[0mcreate_graph\u001b[0m\u001b[0;34m,\u001b[0m \u001b[0minputs\u001b[0m\u001b[0;34m=\u001b[0m\u001b[0minputs\u001b[0m\u001b[0;34m)\u001b[0m\u001b[0;34m\u001b[0m\u001b[0;34m\u001b[0m\u001b[0m\n\u001b[0m\u001b[1;32m    246\u001b[0m \u001b[0;34m\u001b[0m\u001b[0m\n\u001b[1;32m    247\u001b[0m     \u001b[0;32mdef\u001b[0m \u001b[0mregister_hook\u001b[0m\u001b[0;34m(\u001b[0m\u001b[0mself\u001b[0m\u001b[0;34m,\u001b[0m \u001b[0mhook\u001b[0m\u001b[0;34m)\u001b[0m\u001b[0;34m:\u001b[0m\u001b[0;34m\u001b[0m\u001b[0;34m\u001b[0m\u001b[0m\n",
      "\u001b[0;32m~/Anaconda/envs/casbi/lib/python3.9/site-packages/torch/autograd/__init__.py\u001b[0m in \u001b[0;36mbackward\u001b[0;34m(tensors, grad_tensors, retain_graph, create_graph, grad_variables, inputs)\u001b[0m\n\u001b[1;32m    143\u001b[0m         \u001b[0mretain_graph\u001b[0m \u001b[0;34m=\u001b[0m \u001b[0mcreate_graph\u001b[0m\u001b[0;34m\u001b[0m\u001b[0;34m\u001b[0m\u001b[0m\n\u001b[1;32m    144\u001b[0m \u001b[0;34m\u001b[0m\u001b[0m\n\u001b[0;32m--> 145\u001b[0;31m     Variable._execution_engine.run_backward(\n\u001b[0m\u001b[1;32m    146\u001b[0m         \u001b[0mtensors\u001b[0m\u001b[0;34m,\u001b[0m \u001b[0mgrad_tensors_\u001b[0m\u001b[0;34m,\u001b[0m \u001b[0mretain_graph\u001b[0m\u001b[0;34m,\u001b[0m \u001b[0mcreate_graph\u001b[0m\u001b[0;34m,\u001b[0m \u001b[0minputs\u001b[0m\u001b[0;34m,\u001b[0m\u001b[0;34m\u001b[0m\u001b[0;34m\u001b[0m\u001b[0m\n\u001b[1;32m    147\u001b[0m         allow_unreachable=True, accumulate_grad=True)  # allow_unreachable flag\n",
      "\u001b[0;31mKeyboardInterrupt\u001b[0m: "
     ]
    }
   ],
   "source": [
    "model = train(epochs=2, n_train=1000000)"
   ]
  },
  {
   "cell_type": "code",
   "execution_count": null,
   "id": "abstract-siemens",
   "metadata": {},
   "outputs": [],
   "source": [
    "n = 1000000\n",
    "inputs, outputs = simulate_marginals(n)\n",
    "w = weights(model, inputs, outputs)"
   ]
  },
  {
   "cell_type": "code",
   "execution_count": null,
   "id": "closing-startup",
   "metadata": {},
   "outputs": [],
   "source": [
    "n_reweighted = 10000\n",
    "\n",
    "reweighted_indices = np.random.choice(torch.arange(n), size=n_reweighted, replace=False, p=w)\n",
    "rw_inputs = inputs[reweighted_indices, :]\n",
    "rw_outputs = outputs[reweighted_indices, :]\n",
    "\n",
    "d_reweighted = h.util.data.NamedDataset(\n",
    "    inputs=torch.utils.data.TensorDataset(rw_inputs),\n",
    "    outputs=torch.utils.data.TensorDataset(rw_outputs))"
   ]
  },
  {
   "cell_type": "code",
   "execution_count": null,
   "id": "intended-saturday",
   "metadata": {},
   "outputs": [],
   "source": [
    "j_inputs, j_outputs = simulate_joint(n_reweighted)\n",
    "d_joint = h.util.data.NamedDataset(\n",
    "    inputs=torch.utils.data.TensorDataset(j_inputs),\n",
    "    outputs=torch.utils.data.TensorDataset(j_outputs))"
   ]
  },
  {
   "cell_type": "code",
   "execution_count": null,
   "id": "bizarre-reward",
   "metadata": {},
   "outputs": [],
   "source": [
    "divergence, discriminator = jsd(d_joint, d_reweighted, epochs=2)\n",
    "\n",
    "print(\"Train divergence:\", divergence)"
   ]
  },
  {
   "cell_type": "code",
   "execution_count": null,
   "id": "separated-jones",
   "metadata": {},
   "outputs": [],
   "source": [
    "n = 1000000\n",
    "inputs, outputs = simulate_marginals(n)\n",
    "w = weights(model, inputs, outputs)\n",
    "\n",
    "n_reweighted = 25000\n",
    "\n",
    "reweighted_indices = np.random.choice(torch.arange(n), size=n_reweighted, replace=False, p=w)\n",
    "rw_inputs = inputs[reweighted_indices, :]\n",
    "rw_outputs = outputs[reweighted_indices, :]\n",
    "\n",
    "d_reweighted = h.util.data.NamedDataset(\n",
    "    inputs=torch.utils.data.TensorDataset(rw_inputs),\n",
    "    outputs=torch.utils.data.TensorDataset(rw_outputs))\n",
    "\n",
    "j_inputs, j_outputs = simulate_joint(n_reweighted)\n",
    "d_joint = h.util.data.NamedDataset(\n",
    "    inputs=torch.utils.data.TensorDataset(j_inputs),\n",
    "    outputs=torch.utils.data.TensorDataset(j_outputs))\n",
    "\n",
    "divergence = jsd(d_joint, d_reweighted, discriminator=discriminator)\n",
    "\n",
    "print(\"Test divergence:\", divergence)"
   ]
  },
  {
   "cell_type": "markdown",
   "id": "developing-excerpt",
   "metadata": {},
   "source": [
    "#### AUC with respect to reweighted product of the marginals"
   ]
  },
  {
   "cell_type": "code",
   "execution_count": null,
   "id": "aggressive-carter",
   "metadata": {},
   "outputs": [],
   "source": [
    "ones = np.ones((n_reweighted))\n",
    "zeros = np.zeros((n_reweighted))\n",
    "y = np.hstack((ones, zeros))\n",
    "\n",
    "z_joint = torch.cat([j_inputs, j_outputs], dim=1)\n",
    "y_ones = discriminator(z_joint).detach().numpy()\n",
    "\n",
    "z_rw = torch.cat([rw_inputs, rw_outputs], dim=1)\n",
    "y_zeros = discriminator(z_rw).detach().numpy()\n",
    "\n",
    "x = np.vstack((y_ones, y_zeros))\n",
    "roc_auc_score(y, x)"
   ]
  },
  {
   "cell_type": "markdown",
   "id": "novel-hawaii",
   "metadata": {},
   "source": [
    "### Coverage"
   ]
  },
  {
   "cell_type": "code",
   "execution_count": null,
   "id": "satisfied-membership",
   "metadata": {},
   "outputs": [],
   "source": [
    "coverage(model)"
   ]
  },
  {
   "cell_type": "markdown",
   "id": "outstanding-mileage",
   "metadata": {},
   "source": [
    "## Merging for evaluation"
   ]
  },
  {
   "cell_type": "code",
   "execution_count": null,
   "id": "passing-window",
   "metadata": {},
   "outputs": [],
   "source": [
    "def evaluate(epochs=1, n_train=500000, n_reweighted=10000, conservative=False):\n",
    "    assert n_reweighted < n_train\n",
    "    \n",
    "    # Train model\n",
    "    model = train(epochs=epochs, n_train=n_train, conservative=conservative)\n",
    "    \n",
    "    # Compute JSD\n",
    "    ## Train\n",
    "    inputs, outputs = simulate_marginals(n_train)\n",
    "    w = weights(model, inputs, outputs)\n",
    "    reweighted_indices = np.random.choice(torch.arange(n_train), size=n_reweighted, replace=False, p=w)\n",
    "    rw_inputs = inputs[reweighted_indices, :]\n",
    "    rw_outputs = outputs[reweighted_indices, :]\n",
    "    d_reweighted = h.util.data.NamedDataset(\n",
    "        inputs=torch.utils.data.TensorDataset(rw_inputs),\n",
    "        outputs=torch.utils.data.TensorDataset(rw_outputs))\n",
    "    j_inputs, j_outputs = simulate_joint(n_reweighted)\n",
    "    d_joint = h.util.data.NamedDataset(\n",
    "        inputs=torch.utils.data.TensorDataset(j_inputs),\n",
    "        outputs=torch.utils.data.TensorDataset(j_outputs))\n",
    "    _, discriminator = jsd(d_joint, d_reweighted, epochs=2)\n",
    "    \n",
    "    ## Test\n",
    "    inputs, outputs = simulate_marginals(n_train)\n",
    "    w = weights(model, inputs, outputs)\n",
    "    reweighted_indices = np.random.choice(torch.arange(n_train), size=n_reweighted, replace=False, p=w)\n",
    "    rw_inputs = inputs[reweighted_indices, :]\n",
    "    rw_outputs = outputs[reweighted_indices, :]\n",
    "    d_reweighted = h.util.data.NamedDataset(\n",
    "        inputs=torch.utils.data.TensorDataset(rw_inputs),\n",
    "        outputs=torch.utils.data.TensorDataset(rw_outputs))\n",
    "    j_inputs, j_outputs = simulate_joint(n_reweighted)\n",
    "    d_joint = h.util.data.NamedDataset(\n",
    "        inputs=torch.utils.data.TensorDataset(j_inputs),\n",
    "        outputs=torch.utils.data.TensorDataset(j_outputs))\n",
    "    divergence = jsd(d_joint, d_reweighted, discriminator=discriminator)\n",
    "    \n",
    "    # Compute AUC\n",
    "    ones = np.ones((n_reweighted))\n",
    "    zeros = np.zeros((n_reweighted))\n",
    "    y = np.hstack((ones, zeros))\n",
    "    z_joint = torch.cat([j_inputs, j_outputs], dim=1)\n",
    "    y_ones = discriminator(z_joint).detach().numpy()\n",
    "    z_rw = torch.cat([rw_inputs, rw_outputs], dim=1)\n",
    "    y_zeros = discriminator(z_rw).detach().numpy()\n",
    "    x = np.vstack((y_ones, y_zeros))\n",
    "    auc = roc_auc_score(y, x)\n",
    "    \n",
    "    # Compute coverage\n",
    "    coverage_probability = coverage(model)\n",
    "    \n",
    "    return divergence, auc, coverage_probability"
   ]
  },
  {
   "cell_type": "code",
   "execution_count": null,
   "id": "warming-camcorder",
   "metadata": {},
   "outputs": [],
   "source": [
    "epochs = np.arange(5) + 1\n",
    "results = []\n",
    "for n in tqdm(epochs):\n",
    "    results.append(evaluate(epochs=n))"
   ]
  },
  {
   "cell_type": "code",
   "execution_count": null,
   "id": "vertical-india",
   "metadata": {},
   "outputs": [],
   "source": [
    "results # Columns are: JSD between joint and reweighted product of the marginals, AUC, coverage (this is for 95% CL)"
   ]
  },
  {
   "cell_type": "markdown",
   "id": "operating-coordinate",
   "metadata": {},
   "source": [
    "## Conservative evaluation"
   ]
  },
  {
   "cell_type": "code",
   "execution_count": null,
   "id": "geographic-observer",
   "metadata": {},
   "outputs": [],
   "source": [
    "epochs = np.arange(5) + 1\n",
    "results_conservative = []\n",
    "for n in tqdm(epochs):\n",
    "    results_conservative.append(evaluate(epochs=n, conservative=True))"
   ]
  },
  {
   "cell_type": "code",
   "execution_count": null,
   "id": "existing-walnut",
   "metadata": {},
   "outputs": [],
   "source": [
    "results_conservative # Columns are: JSD between joint and reweighted product of the marginals, AUC, coverage (this is for 95% CL)"
   ]
  }
 ],
 "metadata": {
  "kernelspec": {
   "display_name": "Python 3",
   "language": "python",
   "name": "python3"
  },
  "language_info": {
   "codemirror_mode": {
    "name": "ipython",
    "version": 3
   },
   "file_extension": ".py",
   "mimetype": "text/x-python",
   "name": "python",
   "nbconvert_exporter": "python",
   "pygments_lexer": "ipython3",
   "version": "3.9.0"
  }
 },
 "nbformat": 4,
 "nbformat_minor": 5
}
